{
 "cells": [
  {
   "cell_type": "code",
   "execution_count": 14,
   "metadata": {},
   "outputs": [],
   "source": [
    "%matplotlib inline"
   ]
  },
  {
   "cell_type": "code",
   "execution_count": 118,
   "metadata": {},
   "outputs": [],
   "source": [
    "import os\n",
    "import tqdm\n",
    "from PIL import Image\n",
    "from pathlib import Path\n",
    "from xml.dom import minidom\n",
    "import numpy as np\n",
    "\n",
    "import matplotlib\n",
    "matplotlib.use( 'tkagg' )\n",
    "import matplotlib.pyplot as plt"
   ]
  },
  {
   "cell_type": "code",
   "execution_count": 2,
   "metadata": {},
   "outputs": [],
   "source": [
    "from utils.plots import plot_images"
   ]
  },
  {
   "cell_type": "markdown",
   "metadata": {},
   "source": [
    "yolo format: xc, yc, w, h in (0, 1)"
   ]
  },
  {
   "cell_type": "code",
   "execution_count": 94,
   "metadata": {},
   "outputs": [],
   "source": [
    "def get_labels(file_path, classes):\n",
    "    \"\"\"\n",
    "    from (x1, y1, w, h) to (xc, yc, w, h)\n",
    "    \"\"\"\n",
    "    labels = []\n",
    "    xmldoc = minidom.parse(str(file_path))\n",
    "    for item in xmldoc.getElementsByTagName('DL_ZONE'):\n",
    "        cls = item.attributes['gedi_type'].value\n",
    "        x1  = int(item.attributes['col'].value)\n",
    "        y1  = int(item.attributes['row'].value)\n",
    "        w   = int(item.attributes['width'].value)\n",
    "        h   = int(item.attributes['height'].value)\n",
    "        xc  = x1+w/2\n",
    "        yc  = y1+h/2\n",
    "        labels.append([\n",
    "            classes[cls],\n",
    "            xc, yc, w, h\n",
    "        ])\n",
    "    \n",
    "    return labels"
   ]
  },
  {
   "cell_type": "code",
   "execution_count": 47,
   "metadata": {},
   "outputs": [],
   "source": [
    "classes = {\n",
    "    'DLSignature': 0,\n",
    "    'DLLogo': 1\n",
    "}\n",
    "classes_names = {classes[k]: k for k in classes}"
   ]
  },
  {
   "cell_type": "code",
   "execution_count": 148,
   "metadata": {},
   "outputs": [],
   "source": [
    "base_path = Path('/media/dmitriy/main/data/tobacco_800/tobacco_data_zhugy/tobacco_xml')\n",
    "target_path = Path(\"/media/dmitriy/main/data/tobacco_800/tobacco_data_zhugy/tobacco_yolov5\")\n",
    "\n",
    "os.makedirs(target_path, exist_ok=True)\n",
    "os.makedirs(target_path / 'images', exist_ok=True)\n",
    "os.makedirs(target_path / 'labels', exist_ok=True)"
   ]
  },
  {
   "cell_type": "code",
   "execution_count": null,
   "metadata": {},
   "outputs": [
    {
     "name": "stderr",
     "output_type": "stream",
     "text": [
      " 90%|████████▉ | 1155/1290 [03:13<00:15,  8.95it/s]"
     ]
    }
   ],
   "source": [
    "# convert\n",
    "\n",
    "for file in tqdm.tqdm(os.listdir(os.path.join(base_path, 'images'))):\n",
    "    base_file_path = base_path / 'images' / file\n",
    "    base_labels_path = base_path / 'labels' / file.replace('tif', 'xml')\n",
    "    target_file_path = target_path / 'images' / file.replace('tif', 'jpg')\n",
    "    target_labels_path = target_path / 'labels' / file.replace('tif', 'txt')\n",
    "\n",
    "    img = np.array(Image.open(base_file_path)).astype(float)\n",
    "    img = img.reshape(1, *img.shape)\n",
    "    img = np.repeat(img, 3, axis=0)\n",
    "    Image.fromarray((img*255).astype(np.uint8).transpose(1, 2, 0)).save(target_file_path)\n",
    "    \n",
    "    labels = get_labels(base_labels_path, classes)\n",
    "    labels = np.array(labels)\n",
    "    if len(labels)> 0:\n",
    "        labels[:, 1] /= img.shape[2] # xc / w\n",
    "        labels[:, 2] /= img.shape[1] # yc / h\n",
    "        labels[:, 3] /= img.shape[2] # bbw / w\n",
    "        labels[:, 4] /= img.shape[1] # bbh / h\n",
    "\n",
    "    labels = labels.tolist()\n",
    "    labels = [[int(row[0])] + row[1:] for row in labels]\n",
    "    with open(file=target_labels_path, mode='w') as f:\n",
    "        for row in labels:\n",
    "            f.write(\" \".join(map(str, row))+'\\n')"
   ]
  },
  {
   "cell_type": "code",
   "execution_count": 138,
   "metadata": {},
   "outputs": [],
   "source": [
    "#customize iPython writefile so we can write variables\n",
    "from IPython.core.magic import register_line_cell_magic\n",
    "\n",
    "@register_line_cell_magic\n",
    "def writetemplate(line, cell):\n",
    "    with open(line, 'w') as f:\n",
    "        f.write(cell.format(**globals()))"
   ]
  },
  {
   "cell_type": "code",
   "execution_count": 144,
   "metadata": {},
   "outputs": [
    {
     "data": {
      "text/plain": [
       "'/media/dmitriy/main/data/tobacco_800/tobacco_data_zhugy/tobacco_yolov5/data.yaml'"
      ]
     },
     "execution_count": 144,
     "metadata": {},
     "output_type": "execute_result"
    }
   ],
   "source": [
    "data_path"
   ]
  },
  {
   "cell_type": "code",
   "execution_count": 142,
   "metadata": {},
   "outputs": [],
   "source": [
    "data_path = str(target_path/'data.yaml')\n",
    "train_path = str(target_path/'images')\n",
    "valid_path = str(target_path/'images')"
   ]
  },
  {
   "cell_type": "code",
   "execution_count": 143,
   "metadata": {},
   "outputs": [],
   "source": [
    "%%writetemplate {data_path}\n",
    "\n",
    "train: {train_path}\n",
    "val: {valid_path}\n",
    "\n",
    "nc: 2\n",
    "names: ['DLSignature', 'DLLogo']"
   ]
  },
  {
   "cell_type": "code",
   "execution_count": null,
   "metadata": {},
   "outputs": [],
   "source": []
  },
  {
   "cell_type": "code",
   "execution_count": null,
   "metadata": {},
   "outputs": [],
   "source": []
  },
  {
   "cell_type": "code",
   "execution_count": 128,
   "metadata": {},
   "outputs": [
    {
     "name": "stderr",
     "output_type": "stream",
     "text": [
      "Exception in Tkinter callback\n",
      "Traceback (most recent call last):\n",
      "  File \"/usr/lib/python3.8/tkinter/__init__.py\", line 1883, in __call__\n",
      "    return self.func(*args)\n",
      "  File \"/usr/lib/python3.8/tkinter/__init__.py\", line 804, in callit\n",
      "    func(*args)\n",
      "  File \"/home/dmitriy/.local/lib/python3.8/site-packages/matplotlib/backends/_backend_tk.py\", line 253, in idle_draw\n",
      "    self.draw()\n",
      "  File \"/home/dmitriy/.local/lib/python3.8/site-packages/matplotlib/backends/backend_tkagg.py\", line 9, in draw\n",
      "    super(FigureCanvasTkAgg, self).draw()\n",
      "  File \"/home/dmitriy/.local/lib/python3.8/site-packages/matplotlib/backends/backend_agg.py\", line 407, in draw\n",
      "    self.figure.draw(self.renderer)\n",
      "  File \"/home/dmitriy/.local/lib/python3.8/site-packages/matplotlib/backend_bases.py\", line 1544, in _draw\n",
      "    def _draw(renderer): raise Done(renderer)\n",
      "matplotlib.backend_bases._get_renderer.<locals>.Done: <matplotlib.backends.backend_agg.RendererAgg object at 0x7f5a4dbb7ee0>\n",
      "Exception in Tkinter callback\n",
      "Traceback (most recent call last):\n",
      "  File \"/usr/lib/python3.8/tkinter/__init__.py\", line 1883, in __call__\n",
      "    return self.func(*args)\n",
      "  File \"/home/dmitriy/.local/lib/python3.8/site-packages/matplotlib/backends/_backend_tk.py\", line 242, in resize\n",
      "    self.draw()\n",
      "  File \"/home/dmitriy/.local/lib/python3.8/site-packages/matplotlib/backends/backend_tkagg.py\", line 9, in draw\n",
      "    super(FigureCanvasTkAgg, self).draw()\n",
      "  File \"/home/dmitriy/.local/lib/python3.8/site-packages/matplotlib/backends/backend_agg.py\", line 407, in draw\n",
      "    self.figure.draw(self.renderer)\n",
      "  File \"/home/dmitriy/.local/lib/python3.8/site-packages/matplotlib/backend_bases.py\", line 1544, in _draw\n",
      "    def _draw(renderer): raise Done(renderer)\n",
      "matplotlib.backend_bases._get_renderer.<locals>.Done: <matplotlib.backends.backend_agg.RendererAgg object at 0x7f5a4dbb7ee0>\n",
      "Exception in Tkinter callback\n",
      "Traceback (most recent call last):\n",
      "  File \"/usr/lib/python3.8/tkinter/__init__.py\", line 1883, in __call__\n",
      "    return self.func(*args)\n",
      "  File \"/usr/lib/python3.8/tkinter/__init__.py\", line 804, in callit\n",
      "    func(*args)\n",
      "  File \"/home/dmitriy/.local/lib/python3.8/site-packages/matplotlib/backends/_backend_tk.py\", line 253, in idle_draw\n",
      "    self.draw()\n",
      "  File \"/home/dmitriy/.local/lib/python3.8/site-packages/matplotlib/backends/backend_tkagg.py\", line 9, in draw\n",
      "    super(FigureCanvasTkAgg, self).draw()\n",
      "  File \"/home/dmitriy/.local/lib/python3.8/site-packages/matplotlib/backends/backend_agg.py\", line 407, in draw\n",
      "    self.figure.draw(self.renderer)\n",
      "  File \"/home/dmitriy/.local/lib/python3.8/site-packages/matplotlib/backend_bases.py\", line 1544, in _draw\n",
      "    def _draw(renderer): raise Done(renderer)\n",
      "matplotlib.backend_bases._get_renderer.<locals>.Done: <matplotlib.backends.backend_agg.RendererAgg object at 0x7f5a4dbb7ee0>\n"
     ]
    },
    {
     "data": {
      "image/png": "[encoded data removed]",
      "text/plain": [
       "<Figure size 432x288 with 1 Axes>"
      ]
     },
     "metadata": {
      "needs_background": "light"
     },
     "output_type": "display_data"
    }
   ],
   "source": [
    "# demo view\n",
    "img_i = 0\n",
    "file_path = base_path/'images'/files[img_i]\n",
    "labels_path = base_path/'labels'/files[img_i].replace('tif', 'xml')\n",
    "\n",
    "img = np.array(Image.open(file_path)).astype(float)\n",
    "img = img.reshape(1, *img.shape)\n",
    "img = np.repeat(img, 3, axis=0)\n",
    "\n",
    "labels = get_labels(labels_path, classes)\n",
    "labels = np.array(labels)\n",
    "col = np.array([[0]]*labels.shape[0])\n",
    "targets = np.hstack([col, labels])\n",
    "\n",
    "plot_images(img.reshape(1, *img.shape), targets, names=classes_names)\n",
    "plt.imshow(Image.open('images.jpg'))\n",
    "plt.show()"
   ]
  },
  {
   "cell_type": "code",
   "execution_count": null,
   "metadata": {},
   "outputs": [],
   "source": []
  },
  {
   "cell_type": "code",
   "execution_count": null,
   "metadata": {},
   "outputs": [],
   "source": []
  },
  {
   "cell_type": "code",
   "execution_count": 42,
   "metadata": {},
   "outputs": [
    {
     "ename": "TypeError",
     "evalue": "Invalid shape (3, 3296, 2560) for image data",
     "output_type": "error",
     "traceback": [
      "\u001b[0;31m---------------------------------------------------------------------------\u001b[0m",
      "\u001b[0;31mTypeError\u001b[0m                                 Traceback (most recent call last)",
      "\u001b[0;32m<ipython-input-42-878eb3b29097>\u001b[0m in \u001b[0;36m<module>\u001b[0;34m\u001b[0m\n\u001b[0;32m----> 1\u001b[0;31m \u001b[0mplt\u001b[0m\u001b[0;34m.\u001b[0m\u001b[0mimshow\u001b[0m\u001b[0;34m(\u001b[0m\u001b[0mimg\u001b[0m\u001b[0;34m)\u001b[0m\u001b[0;34m\u001b[0m\u001b[0;34m\u001b[0m\u001b[0m\n\u001b[0m\u001b[1;32m      2\u001b[0m \u001b[0mplt\u001b[0m\u001b[0;34m.\u001b[0m\u001b[0mshow\u001b[0m\u001b[0;34m(\u001b[0m\u001b[0;34m)\u001b[0m\u001b[0;34m\u001b[0m\u001b[0;34m\u001b[0m\u001b[0m\n",
      "\u001b[0;32m~/.local/lib/python3.8/site-packages/matplotlib/pyplot.py\u001b[0m in \u001b[0;36mimshow\u001b[0;34m(X, cmap, norm, aspect, interpolation, alpha, vmin, vmax, origin, extent, filternorm, filterrad, resample, url, data, **kwargs)\u001b[0m\n\u001b[1;32m   2722\u001b[0m         \u001b[0mfilternorm\u001b[0m\u001b[0;34m=\u001b[0m\u001b[0;32mTrue\u001b[0m\u001b[0;34m,\u001b[0m \u001b[0mfilterrad\u001b[0m\u001b[0;34m=\u001b[0m\u001b[0;36m4.0\u001b[0m\u001b[0;34m,\u001b[0m \u001b[0mresample\u001b[0m\u001b[0;34m=\u001b[0m\u001b[0;32mNone\u001b[0m\u001b[0;34m,\u001b[0m \u001b[0murl\u001b[0m\u001b[0;34m=\u001b[0m\u001b[0;32mNone\u001b[0m\u001b[0;34m,\u001b[0m\u001b[0;34m\u001b[0m\u001b[0;34m\u001b[0m\u001b[0m\n\u001b[1;32m   2723\u001b[0m         data=None, **kwargs):\n\u001b[0;32m-> 2724\u001b[0;31m     __ret = gca().imshow(\n\u001b[0m\u001b[1;32m   2725\u001b[0m         \u001b[0mX\u001b[0m\u001b[0;34m,\u001b[0m \u001b[0mcmap\u001b[0m\u001b[0;34m=\u001b[0m\u001b[0mcmap\u001b[0m\u001b[0;34m,\u001b[0m \u001b[0mnorm\u001b[0m\u001b[0;34m=\u001b[0m\u001b[0mnorm\u001b[0m\u001b[0;34m,\u001b[0m \u001b[0maspect\u001b[0m\u001b[0;34m=\u001b[0m\u001b[0maspect\u001b[0m\u001b[0;34m,\u001b[0m\u001b[0;34m\u001b[0m\u001b[0;34m\u001b[0m\u001b[0m\n\u001b[1;32m   2726\u001b[0m         \u001b[0minterpolation\u001b[0m\u001b[0;34m=\u001b[0m\u001b[0minterpolation\u001b[0m\u001b[0;34m,\u001b[0m \u001b[0malpha\u001b[0m\u001b[0;34m=\u001b[0m\u001b[0malpha\u001b[0m\u001b[0;34m,\u001b[0m \u001b[0mvmin\u001b[0m\u001b[0;34m=\u001b[0m\u001b[0mvmin\u001b[0m\u001b[0;34m,\u001b[0m\u001b[0;34m\u001b[0m\u001b[0;34m\u001b[0m\u001b[0m\n",
      "\u001b[0;32m~/.local/lib/python3.8/site-packages/matplotlib/__init__.py\u001b[0m in \u001b[0;36minner\u001b[0;34m(ax, data, *args, **kwargs)\u001b[0m\n\u001b[1;32m   1436\u001b[0m     \u001b[0;32mdef\u001b[0m \u001b[0minner\u001b[0m\u001b[0;34m(\u001b[0m\u001b[0max\u001b[0m\u001b[0;34m,\u001b[0m \u001b[0;34m*\u001b[0m\u001b[0margs\u001b[0m\u001b[0;34m,\u001b[0m \u001b[0mdata\u001b[0m\u001b[0;34m=\u001b[0m\u001b[0;32mNone\u001b[0m\u001b[0;34m,\u001b[0m \u001b[0;34m**\u001b[0m\u001b[0mkwargs\u001b[0m\u001b[0;34m)\u001b[0m\u001b[0;34m:\u001b[0m\u001b[0;34m\u001b[0m\u001b[0;34m\u001b[0m\u001b[0m\n\u001b[1;32m   1437\u001b[0m         \u001b[0;32mif\u001b[0m \u001b[0mdata\u001b[0m \u001b[0;32mis\u001b[0m \u001b[0;32mNone\u001b[0m\u001b[0;34m:\u001b[0m\u001b[0;34m\u001b[0m\u001b[0;34m\u001b[0m\u001b[0m\n\u001b[0;32m-> 1438\u001b[0;31m             \u001b[0;32mreturn\u001b[0m \u001b[0mfunc\u001b[0m\u001b[0;34m(\u001b[0m\u001b[0max\u001b[0m\u001b[0;34m,\u001b[0m \u001b[0;34m*\u001b[0m\u001b[0mmap\u001b[0m\u001b[0;34m(\u001b[0m\u001b[0msanitize_sequence\u001b[0m\u001b[0;34m,\u001b[0m \u001b[0margs\u001b[0m\u001b[0;34m)\u001b[0m\u001b[0;34m,\u001b[0m \u001b[0;34m**\u001b[0m\u001b[0mkwargs\u001b[0m\u001b[0;34m)\u001b[0m\u001b[0;34m\u001b[0m\u001b[0;34m\u001b[0m\u001b[0m\n\u001b[0m\u001b[1;32m   1439\u001b[0m \u001b[0;34m\u001b[0m\u001b[0m\n\u001b[1;32m   1440\u001b[0m         \u001b[0mbound\u001b[0m \u001b[0;34m=\u001b[0m \u001b[0mnew_sig\u001b[0m\u001b[0;34m.\u001b[0m\u001b[0mbind\u001b[0m\u001b[0;34m(\u001b[0m\u001b[0max\u001b[0m\u001b[0;34m,\u001b[0m \u001b[0;34m*\u001b[0m\u001b[0margs\u001b[0m\u001b[0;34m,\u001b[0m \u001b[0;34m**\u001b[0m\u001b[0mkwargs\u001b[0m\u001b[0;34m)\u001b[0m\u001b[0;34m\u001b[0m\u001b[0;34m\u001b[0m\u001b[0m\n",
      "\u001b[0;32m~/.local/lib/python3.8/site-packages/matplotlib/axes/_axes.py\u001b[0m in \u001b[0;36mimshow\u001b[0;34m(self, X, cmap, norm, aspect, interpolation, alpha, vmin, vmax, origin, extent, filternorm, filterrad, resample, url, **kwargs)\u001b[0m\n\u001b[1;32m   5521\u001b[0m                               resample=resample, **kwargs)\n\u001b[1;32m   5522\u001b[0m \u001b[0;34m\u001b[0m\u001b[0m\n\u001b[0;32m-> 5523\u001b[0;31m         \u001b[0mim\u001b[0m\u001b[0;34m.\u001b[0m\u001b[0mset_data\u001b[0m\u001b[0;34m(\u001b[0m\u001b[0mX\u001b[0m\u001b[0;34m)\u001b[0m\u001b[0;34m\u001b[0m\u001b[0;34m\u001b[0m\u001b[0m\n\u001b[0m\u001b[1;32m   5524\u001b[0m         \u001b[0mim\u001b[0m\u001b[0;34m.\u001b[0m\u001b[0mset_alpha\u001b[0m\u001b[0;34m(\u001b[0m\u001b[0malpha\u001b[0m\u001b[0;34m)\u001b[0m\u001b[0;34m\u001b[0m\u001b[0;34m\u001b[0m\u001b[0m\n\u001b[1;32m   5525\u001b[0m         \u001b[0;32mif\u001b[0m \u001b[0mim\u001b[0m\u001b[0;34m.\u001b[0m\u001b[0mget_clip_path\u001b[0m\u001b[0;34m(\u001b[0m\u001b[0;34m)\u001b[0m \u001b[0;32mis\u001b[0m \u001b[0;32mNone\u001b[0m\u001b[0;34m:\u001b[0m\u001b[0;34m\u001b[0m\u001b[0;34m\u001b[0m\u001b[0m\n",
      "\u001b[0;32m~/.local/lib/python3.8/site-packages/matplotlib/image.py\u001b[0m in \u001b[0;36mset_data\u001b[0;34m(self, A)\u001b[0m\n\u001b[1;32m    707\u001b[0m         if not (self._A.ndim == 2\n\u001b[1;32m    708\u001b[0m                 or self._A.ndim == 3 and self._A.shape[-1] in [3, 4]):\n\u001b[0;32m--> 709\u001b[0;31m             raise TypeError(\"Invalid shape {} for image data\"\n\u001b[0m\u001b[1;32m    710\u001b[0m                             .format(self._A.shape))\n\u001b[1;32m    711\u001b[0m \u001b[0;34m\u001b[0m\u001b[0m\n",
      "\u001b[0;31mTypeError\u001b[0m: Invalid shape (3, 3296, 2560) for image data"
     ]
    },
    {
     "data": {
      "image/png": "[encoded data removed]",
      "text/plain": [
       "<Figure size 432x288 with 1 Axes>"
      ]
     },
     "metadata": {
      "needs_background": "light"
     },
     "output_type": "display_data"
    }
   ],
   "source": [
    "plt.imshow(img)\n",
    "plt.show()"
   ]
  },
  {
   "cell_type": "code",
   "execution_count": 3,
   "metadata": {},
   "outputs": [],
   "source": [
    "path = "
   ]
  },
  {
   "cell_type": "code",
   "execution_count": 4,
   "metadata": {},
   "outputs": [
    {
     "name": "stdout",
     "output_type": "stream",
     "text": [
      "<?xml version=\"1.0\" encoding=\"UTF-8\"?>\n",
      "<!--GEDI is developed at Language and Media Processing Laboratory, University of Maryland.-->\n",
      "<GEDI xmlns=\"http://lamp.cfar.umd.edu/GEDI\" version=\"1.0\">\n",
      "\t<DL_DOCUMENT src=\"ajz31e00.tif\" NrOfPages=\"1\" docTag=\"xml\">\n",
      "\t\t<DL_PAGE gedi_type=\"DL_PAGE\" src=\"ajz31e00.tif\" pageID=\"1\" width=\"2560\" height=\"3292\">\n",
      "\t\t\t<DL_ZONE gedi_type=\"DLSignature\" id=\"None\" col=\"479\" row=\"1450\" width=\"755\" height=\"248\" Overlapped=\"Yes\" AuthorID=\"Vollmuth, T.A.\"> </DL_ZONE>\n",
      "\t\t\t<DL_ZONE gedi_type=\"DLLogo\" id=\"None\" col=\"127\" row=\"170\" width=\"758\" height=\"236\"> </DL_ZONE>\n",
      "\t\t</DL_PAGE>\n",
      "\t</DL_DOCUMENT>\n",
      "</GEDI>"
     ]
    }
   ],
   "source": [
    "!cat {path}"
   ]
  },
  {
   "cell_type": "code",
   "execution_count": 17,
   "metadata": {},
   "outputs": [
    {
     "name": "stdout",
     "output_type": "stream",
     "text": [
      "DLSignature\n",
      "DLLogo\n"
     ]
    }
   ],
   "source": []
  },
  {
   "cell_type": "code",
   "execution_count": 15,
   "metadata": {},
   "outputs": [
    {
     "data": {
      "text/plain": [
       "['ATTRIBUTE_NODE',\n",
       " 'CDATA_SECTION_NODE',\n",
       " 'COMMENT_NODE',\n",
       " 'DOCUMENT_FRAGMENT_NODE',\n",
       " 'DOCUMENT_NODE',\n",
       " 'DOCUMENT_TYPE_NODE',\n",
       " 'ELEMENT_NODE',\n",
       " 'ENTITY_NODE',\n",
       " 'ENTITY_REFERENCE_NODE',\n",
       " 'NOTATION_NODE',\n",
       " 'PROCESSING_INSTRUCTION_NODE',\n",
       " 'TEXT_NODE',\n",
       " '__bool__',\n",
       " '__class__',\n",
       " '__delattr__',\n",
       " '__dict__',\n",
       " '__dir__',\n",
       " '__doc__',\n",
       " '__enter__',\n",
       " '__eq__',\n",
       " '__exit__',\n",
       " '__format__',\n",
       " '__ge__',\n",
       " '__getattribute__',\n",
       " '__gt__',\n",
       " '__hash__',\n",
       " '__init__',\n",
       " '__init_subclass__',\n",
       " '__le__',\n",
       " '__lt__',\n",
       " '__module__',\n",
       " '__ne__',\n",
       " '__new__',\n",
       " '__reduce__',\n",
       " '__reduce_ex__',\n",
       " '__repr__',\n",
       " '__setattr__',\n",
       " '__sizeof__',\n",
       " '__slots__',\n",
       " '__str__',\n",
       " '__subclasshook__',\n",
       " '__weakref__',\n",
       " '_attrs',\n",
       " '_attrsNS',\n",
       " '_call_user_data_handler',\n",
       " '_child_node_types',\n",
       " '_ensure_attributes',\n",
       " '_get_attributes',\n",
       " '_get_childNodes',\n",
       " '_get_firstChild',\n",
       " '_get_lastChild',\n",
       " '_get_localName',\n",
       " '_get_tagName',\n",
       " '_localName',\n",
       " '_magic_id_nodes',\n",
       " 'appendChild',\n",
       " 'attributes',\n",
       " 'childNodes',\n",
       " 'cloneNode',\n",
       " 'firstChild',\n",
       " 'getAttribute',\n",
       " 'getAttributeNS',\n",
       " 'getAttributeNode',\n",
       " 'getAttributeNodeNS',\n",
       " 'getElementsByTagName',\n",
       " 'getElementsByTagNameNS',\n",
       " 'getInterface',\n",
       " 'getUserData',\n",
       " 'hasAttribute',\n",
       " 'hasAttributeNS',\n",
       " 'hasAttributes',\n",
       " 'hasChildNodes',\n",
       " 'insertBefore',\n",
       " 'isSameNode',\n",
       " 'isSupported',\n",
       " 'lastChild',\n",
       " 'localName',\n",
       " 'namespaceURI',\n",
       " 'nextSibling',\n",
       " 'nodeName',\n",
       " 'nodeType',\n",
       " 'nodeValue',\n",
       " 'normalize',\n",
       " 'ownerDocument',\n",
       " 'parentNode',\n",
       " 'prefix',\n",
       " 'previousSibling',\n",
       " 'removeAttribute',\n",
       " 'removeAttributeNS',\n",
       " 'removeAttributeNode',\n",
       " 'removeAttributeNodeNS',\n",
       " 'removeChild',\n",
       " 'replaceChild',\n",
       " 'schemaType',\n",
       " 'setAttribute',\n",
       " 'setAttributeNS',\n",
       " 'setAttributeNode',\n",
       " 'setAttributeNodeNS',\n",
       " 'setIdAttribute',\n",
       " 'setIdAttributeNS',\n",
       " 'setIdAttributeNode',\n",
       " 'setUserData',\n",
       " 'tagName',\n",
       " 'toprettyxml',\n",
       " 'toxml',\n",
       " 'unlink',\n",
       " 'writexml']"
      ]
     },
     "execution_count": 15,
     "metadata": {},
     "output_type": "execute_result"
    }
   ],
   "source": [
    "dir(itemlist[0])"
   ]
  },
  {
   "cell_type": "code",
   "execution_count": 8,
   "metadata": {},
   "outputs": [],
   "source": [
    "import xml.etree.ElementTree as ET\n",
    "root = ET.parse(path).getroot()"
   ]
  },
  {
   "cell_type": "code",
   "execution_count": 11,
   "metadata": {},
   "outputs": [
    {
     "data": {
      "text/plain": [
       "[]"
      ]
     },
     "execution_count": 11,
     "metadata": {},
     "output_type": "execute_result"
    }
   ],
   "source": [
    "root.findall('DL_ZONE')"
   ]
  },
  {
   "cell_type": "code",
   "execution_count": null,
   "metadata": {},
   "outputs": [],
   "source": [
    "for type_tag in root.findall('bar/type'):\n",
    "    value = type_tag.get('foobar')\n",
    "    print(value)"
   ]
  },
  {
   "cell_type": "code",
   "execution_count": 10,
   "metadata": {},
   "outputs": [
    {
     "data": {
      "text/plain": [
       "['__class__',\n",
       " '__copy__',\n",
       " '__deepcopy__',\n",
       " '__delattr__',\n",
       " '__delitem__',\n",
       " '__dir__',\n",
       " '__doc__',\n",
       " '__eq__',\n",
       " '__format__',\n",
       " '__ge__',\n",
       " '__getattribute__',\n",
       " '__getitem__',\n",
       " '__getstate__',\n",
       " '__gt__',\n",
       " '__hash__',\n",
       " '__init__',\n",
       " '__init_subclass__',\n",
       " '__le__',\n",
       " '__len__',\n",
       " '__lt__',\n",
       " '__ne__',\n",
       " '__new__',\n",
       " '__reduce__',\n",
       " '__reduce_ex__',\n",
       " '__repr__',\n",
       " '__setattr__',\n",
       " '__setitem__',\n",
       " '__setstate__',\n",
       " '__sizeof__',\n",
       " '__str__',\n",
       " '__subclasshook__',\n",
       " 'append',\n",
       " 'attrib',\n",
       " 'clear',\n",
       " 'extend',\n",
       " 'find',\n",
       " 'findall',\n",
       " 'findtext',\n",
       " 'get',\n",
       " 'getchildren',\n",
       " 'getiterator',\n",
       " 'insert',\n",
       " 'items',\n",
       " 'iter',\n",
       " 'iterfind',\n",
       " 'itertext',\n",
       " 'keys',\n",
       " 'makeelement',\n",
       " 'remove',\n",
       " 'set',\n",
       " 'tag',\n",
       " 'tail',\n",
       " 'text']"
      ]
     },
     "execution_count": 10,
     "metadata": {},
     "output_type": "execute_result"
    }
   ],
   "source": [
    "dir(ET.parse(path).getroot())"
   ]
  }
 ],
 "metadata": {
  "kernelspec": {
   "display_name": "Python 3",
   "language": "python",
   "name": "python3"
  },
  "language_info": {
   "codemirror_mode": {
    "name": "ipython",
    "version": 3
   },
   "file_extension": ".py",
   "mimetype": "text/x-python",
   "name": "python",
   "nbconvert_exporter": "python",
   "pygments_lexer": "ipython3",
   "version": "3.8.5"
  }
 },
 "nbformat": 4,
 "nbformat_minor": 4
}
